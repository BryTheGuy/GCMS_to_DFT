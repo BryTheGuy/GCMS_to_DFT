{
 "cells": [
  {
   "cell_type": "code",
   "execution_count": 1,
   "id": "a7d5ff90",
   "metadata": {},
   "outputs": [],
   "source": [
    "import os\n",
    "from openbabel import pybel"
   ]
  },
  {
   "cell_type": "code",
   "execution_count": 17,
   "id": "8d5fc309",
   "metadata": {},
   "outputs": [
    {
     "name": "stdout",
     "output_type": "stream",
     "text": [
      "O=Cc1ccc(O)c(OC)c1\t\n",
      "\n",
      "Finished with Molecule #1\n",
      "CC(=O)NCCc1c[nH]c2c1cc(OC)cc2\t\n",
      "\n",
      "Finished with Molecule #2\n",
      "fin\n"
     ]
    }
   ],
   "source": [
    "i = 0\n",
    "sep = '\\t'\n",
    "for mol in pybel.readfile('smi', './SMILES_example.smi'):\n",
    "    i += 1\n",
    "    # print(mol.write('smi'))\n",
    "    smi_str = mol.write('smi')\n",
    "    # print(smi_str)\n",
    "    stripped_smi_str = smi_str.split(sep, 1)[0]\n",
    "    os.system('obabel -:' + stripped_smi_str + ' --gen2d -osdf | obabel -isdf --gen3d -osdf | obabel -isdf -oxyz -O 3D_relayed%s.xyz' % i)\n",
    "    print('Finished with Molecule #%s' % i)\n",
    "print('fin')"
   ]
  },
  {
   "cell_type": "code",
   "execution_count": null,
   "id": "28543fd9",
   "metadata": {},
   "outputs": [],
   "source": []
  }
 ],
 "metadata": {
  "kernelspec": {
   "display_name": "Python 3 (ipykernel)",
   "language": "python",
   "name": "python3"
  },
  "language_info": {
   "codemirror_mode": {
    "name": "ipython",
    "version": 3
   },
   "file_extension": ".py",
   "mimetype": "text/x-python",
   "name": "python",
   "nbconvert_exporter": "python",
   "pygments_lexer": "ipython3",
   "version": "3.9.7"
  }
 },
 "nbformat": 4,
 "nbformat_minor": 5
}
